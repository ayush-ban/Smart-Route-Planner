{
  "cells": [
    {
      "cell_type": "markdown",
      "metadata": {
        "id": "view-in-github",
        "colab_type": "text"
      },
      "source": [
        "<a href=\"https://colab.research.google.com/github/ayush-ban/Smart-Route-Planner/blob/main/Smart_Route_Planner_Web_App.ipynb\" target=\"_parent\"><img src=\"https://colab.research.google.com/assets/colab-badge.svg\" alt=\"Open In Colab\"/></a>"
      ]
    },
    {
      "cell_type": "code",
      "source": [
        "# ======================================================\n",
        "# 🚀 Streamlit + ngrok setup for Google Colab\n",
        "# ======================================================\n",
        "\n",
        "# 1️⃣ Set your ngrok token\n",
        "NGROK_AUTH_TOKEN = \"34hYKzupYXQEKWSJH82aGJdYKha_7Ggi3PJmxj9gND2DccU72\"\n",
        "\n",
        "# 2️⃣ Install dependencies\n",
        "!pip install streamlit pyngrok -q\n",
        "\n",
        "import time\n",
        "import subprocess\n",
        "import sys\n",
        "from pyngrok import ngrok\n",
        "\n",
        "# 3️⃣ Authenticate ngrok\n",
        "if not NGROK_AUTH_TOKEN:\n",
        "    print(\"❌ Please add your ngrok auth token first.\")\n",
        "    sys.exit(0)\n",
        "else:\n",
        "    ngrok.set_auth_token(NGROK_AUTH_TOKEN)\n",
        "\n",
        "# 4️⃣ Verify your Streamlit file exists\n",
        "APP_FILE = \"smart_route_planner.py\"\n",
        "\n",
        "try:\n",
        "    open(APP_FILE).close()\n",
        "except FileNotFoundError:\n",
        "    print(f\"❌ {APP_FILE} not found. Please upload it to your Colab working directory.\")\n",
        "    sys.exit(0)\n",
        "\n",
        "# 5️⃣ Kill old tunnels and start Streamlit\n",
        "ngrok.kill()\n",
        "\n",
        "print(\"✅ Launching Streamlit app...\")\n",
        "process = subprocess.Popen([\"streamlit\", \"run\", APP_FILE, \"--server.port\", \"8501\"])\n",
        "\n",
        "# Wait for Streamlit to start\n",
        "time.sleep(8)\n",
        "\n",
        "# 6️⃣ Connect ngrok to Streamlit\n",
        "public_url = ngrok.connect(8501)\n",
        "print(\"\\n\" + \"=\" * 60)\n",
        "print(\"🌐 Your Streamlit App is LIVE!\")\n",
        "print(\"👉 Public URL:\", public_url)\n",
        "print(\"=\" * 60)\n",
        "\n",
        "# 7️⃣ Keep alive\n",
        "try:\n",
        "    print(\"\\nKeep this cell running to keep your app alive.\")\n",
        "    while True:\n",
        "        time.sleep(5)\n",
        "except KeyboardInterrupt:\n",
        "    print(\"🔴 Stopping Streamlit and closing ngrok...\")\n",
        "    process.terminate()\n",
        "    ngrok.kill()\n"
      ],
      "metadata": {
        "colab": {
          "base_uri": "https://localhost:8080/"
        },
        "id": "6dmFg17xeLI_",
        "outputId": "b1c6e59f-b9ca-4253-a18b-632b5d8d3ffa"
      },
      "execution_count": 4,
      "outputs": [
        {
          "output_type": "stream",
          "name": "stdout",
          "text": [
            "\u001b[?25l   \u001b[90m━━━━━━━━━━━━━━━━━━━━━━━━━━━━━━━━━━━━━━━━\u001b[0m \u001b[32m0.0/10.1 MB\u001b[0m \u001b[31m?\u001b[0m eta \u001b[36m-:--:--\u001b[0m\r\u001b[2K   \u001b[91m━━━━━━━━━━━\u001b[0m\u001b[90m╺\u001b[0m\u001b[90m━━━━━━━━━━━━━━━━━━━━━━━━━━━━\u001b[0m \u001b[32m2.9/10.1 MB\u001b[0m \u001b[31m84.8 MB/s\u001b[0m eta \u001b[36m0:00:01\u001b[0m\r\u001b[2K   \u001b[91m━━━━━━━━━━━━━━━━━━━━━━━━━━━━━━━\u001b[0m\u001b[91m╸\u001b[0m\u001b[90m━━━━━━━━\u001b[0m \u001b[32m8.0/10.1 MB\u001b[0m \u001b[31m105.6 MB/s\u001b[0m eta \u001b[36m0:00:01\u001b[0m\r\u001b[2K   \u001b[91m━━━━━━━━━━━━━━━━━━━━━━━━━━━━━━━━━━━━━━━\u001b[0m\u001b[91m╸\u001b[0m \u001b[32m10.1/10.1 MB\u001b[0m \u001b[31m108.0 MB/s\u001b[0m eta \u001b[36m0:00:01\u001b[0m\r\u001b[2K   \u001b[90m━━━━━━━━━━━━━━━━━━━━━━━━━━━━━━━━━━━━━━━━\u001b[0m \u001b[32m10.1/10.1 MB\u001b[0m \u001b[31m71.7 MB/s\u001b[0m eta \u001b[36m0:00:00\u001b[0m\n",
            "\u001b[?25h\u001b[?25l   \u001b[90m━━━━━━━━━━━━━━━━━━━━━━━━━━━━━━━━━━━━━━━━\u001b[0m \u001b[32m0.0/6.9 MB\u001b[0m \u001b[31m?\u001b[0m eta \u001b[36m-:--:--\u001b[0m\r\u001b[2K   \u001b[91m━━━━━━━━━━━━━━━━━━━━━━━━━━\u001b[0m\u001b[90m╺\u001b[0m\u001b[90m━━━━━━━━━━━━━\u001b[0m \u001b[32m4.6/6.9 MB\u001b[0m \u001b[31m132.8 MB/s\u001b[0m eta \u001b[36m0:00:01\u001b[0m\r\u001b[2K   \u001b[91m━━━━━━━━━━━━━━━━━━━━━━━━━━━━━━━━━━━━━━━\u001b[0m\u001b[91m╸\u001b[0m \u001b[32m6.9/6.9 MB\u001b[0m \u001b[31m135.3 MB/s\u001b[0m eta \u001b[36m0:00:01\u001b[0m\r\u001b[2K   \u001b[90m━━━━━━━━━━━━━━━━━━━━━━━━━━━━━━━━━━━━━━━━\u001b[0m \u001b[32m6.9/6.9 MB\u001b[0m \u001b[31m79.7 MB/s\u001b[0m eta \u001b[36m0:00:00\u001b[0m\n",
            "\u001b[?25h✅ Launching Streamlit app...\n",
            "\n",
            "============================================================\n",
            "🌐 Your Streamlit App is LIVE!\n",
            "👉 Public URL: NgrokTunnel: \"https://sina-postanesthetic-humiliatingly.ngrok-free.dev\" -> \"http://localhost:8501\"\n",
            "============================================================\n",
            "\n",
            "Keep this cell running to keep your app alive.\n",
            "🔴 Stopping Streamlit and closing ngrok...\n"
          ]
        }
      ]
    },
    {
      "cell_type": "code",
      "source": [],
      "metadata": {
        "id": "rv6xXOV_glgf"
      },
      "execution_count": null,
      "outputs": []
    }
  ],
  "metadata": {
    "colab": {
      "provenance": [],
      "include_colab_link": true
    },
    "kernelspec": {
      "display_name": "Python 3",
      "name": "python3"
    }
  },
  "nbformat": 4,
  "nbformat_minor": 0
}